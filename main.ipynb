{
 "cells": [
  {
   "cell_type": "code",
   "execution_count": null,
   "metadata": {
    "colab": {
     "base_uri": "https://localhost:8080/"
    },
    "id": "-K67UBvJb3GM",
    "outputId": "57717795-6779-4c93-fc98-26bfb68b2ae3"
   },
   "outputs": [],
   "source": [
    "import requests\n",
    "import datetime\n",
    "\n",
    "year = datetime.date.today().year\n",
    "\n",
    "url = f\"https://feriadosargentina.com.ar/feriados/{year}\"\n",
    "response = requests.get(url)\n",
    "print(response)"
   ]
  },
  {
   "cell_type": "code",
   "execution_count": null,
   "metadata": {
    "colab": {
     "base_uri": "https://localhost:8080/",
     "height": 107
    },
    "id": "ahr3w6xIcd6g",
    "outputId": "be7c5a86-4bb3-4b5e-c1bc-f81723045fd9"
   },
   "outputs": [],
   "source": [
    "response.text"
   ]
  },
  {
   "cell_type": "code",
   "execution_count": null,
   "metadata": {
    "id": "ccqtnsd7jlth"
   },
   "outputs": [],
   "source": [
    "with open(\"response.txt\", \"w\") as f:\n",
    "  f.write(response.text)"
   ]
  },
  {
   "cell_type": "code",
   "execution_count": null,
   "metadata": {
    "colab": {
     "base_uri": "https://localhost:8080/"
    },
    "id": "rIyCtoqwcmHo",
    "outputId": "600118b2-3057-4b07-e3d9-29e41e5b7756"
   },
   "outputs": [],
   "source": [
    "import re\n",
    "\n",
    "pattern = r\"<td id='([^']+)' style='([^']+)'>\"\n",
    "result = re.findall(pattern, response.text)\n",
    "list(result)"
   ]
  },
  {
   "cell_type": "code",
   "execution_count": null,
   "metadata": {
    "colab": {
     "base_uri": "https://localhost:8080/",
     "height": 771
    },
    "id": "88MaVYDhhi1X",
    "outputId": "d2d681c6-6e56-4e94-d979-42a014da1637"
   },
   "outputs": [],
   "source": [
    "import pandas as pd\n",
    "\n",
    "df = pd.DataFrame(result, columns=[\"raw_date\", \"style\"])\n",
    "df"
   ]
  },
  {
   "cell_type": "code",
   "execution_count": null,
   "metadata": {
    "id": "gzm3JJIkiWcw"
   },
   "outputs": [],
   "source": [
    "def get_tipo(style):\n",
    "  pattern = f\"<td style='{style} width: 50px;'></td>\\s*<td class='text-center'>([^<]+)</td>\"\n",
    "  result = re.findall(pattern, response.text)\n",
    "  return result[0] if len(result) != 0 else None\n",
    "\n",
    "df[\"tipo\"] = df[\"style\"].apply(get_tipo)"
   ]
  },
  {
   "cell_type": "code",
   "execution_count": null,
   "metadata": {
    "colab": {
     "base_uri": "https://localhost:8080/"
    },
    "id": "0zcm63z63Lkd",
    "outputId": "0784747a-6ac6-4261-a9d7-8ac9b79cd9cc"
   },
   "outputs": [],
   "source": [
    "a_eliminar = df[df[\"tipo\"].isna()]\n",
    "print(a_eliminar)\n",
    "df.drop(index=a_eliminar.index, inplace=True)"
   ]
  },
  {
   "cell_type": "code",
   "execution_count": null,
   "metadata": {
    "colab": {
     "base_uri": "https://localhost:8080/"
    },
    "id": "GTTwcj6UpZP-",
    "outputId": "820db1fc-19ce-4a11-dce7-834c58360f5c"
   },
   "outputs": [],
   "source": [
    "import calendar\n",
    "\n",
    "list(calendar.month_name)"
   ]
  },
  {
   "cell_type": "code",
   "execution_count": null,
   "metadata": {
    "id": "ffxzeVNGjD-f"
   },
   "outputs": [],
   "source": [
    "from datetime import date\n",
    "\n",
    "MONTHS = list(calendar.month_name)\n",
    "\n",
    "def get_date(raw_date):\n",
    "  pattern = \"([^-]+)-([^-]+)-(\\d+)\"\n",
    "  result = re.findall(pattern, raw_date)\n",
    "  raw_month, raw_day, raw_year = result[0]\n",
    "  month = MONTHS.index(raw_month)\n",
    "  return date(int(raw_year), month, int(raw_day))\n",
    "\n",
    "df[\"fecha\"] = df[\"raw_date\"].apply(get_date)\n"
   ]
  },
  {
   "cell_type": "code",
   "execution_count": null,
   "metadata": {
    "id": "0islV0VlmnyI"
   },
   "outputs": [],
   "source": [
    "MESES = [\"\", \"enero\", \"febrero\", \"marzo\", \"abril\", \"mayo\", \"junio\", \"julio\", \"agosto\", \"septiembre\", \"octubre\", \"noviembre\", \"diciembre\"]\n",
    "\n",
    "def get_name(date):\n",
    "  mes = MESES[date.month]\n",
    "  pattern = f\"<tr>\\s*<td><a[^>]*>([^<]+)</a></td>\\s*<td> <a[^>]*>[^\\d]+{date.day:02d} de {mes} {date.year}\"\n",
    "  result = re.findall(pattern, response.text)\n",
    "  if len(result) == 0:\n",
    "    pattern = f\"<tr>\\s*<td>([^<]+)</td>\\s*<td>[^\\d]+{date.day:02d} de {mes} {date.year}\"\n",
    "    result = re.findall(pattern, response.text)\n",
    "  if len(result) == 0:\n",
    "    print(date)\n",
    "    return None\n",
    "  return result[0]\n",
    "\n",
    "df[\"motivo\"] = df[\"fecha\"].apply(get_name)"
   ]
  },
  {
   "cell_type": "code",
   "execution_count": null,
   "metadata": {
    "id": "nacFdFtRogng"
   },
   "outputs": [],
   "source": [
    "df[[\"fecha\", \"tipo\", \"motivo\"]].to_json(f\"feriados_{year}.json\"\n",
    ",orient=\"records\"\n",
    ",date_format=\"iso\"\n",
    ",force_ascii=False\n",
    ",indent=2\n",
    ")"
   ]
  },
  {
   "cell_type": "code",
   "execution_count": null,
   "metadata": {
    "colab": {
     "base_uri": "https://localhost:8080/"
    },
    "id": "yjXPiKnXqQfw",
    "outputId": "a785f90d-4be9-4e1b-b3c7-900e12c9e778"
   },
   "outputs": [],
   "source": [
    "df[\"tipo\"]"
   ]
  },
  {
   "cell_type": "code",
   "execution_count": null,
   "metadata": {
    "id": "qpVupo1z4C6z"
   },
   "outputs": [],
   "source": []
  }
 ],
 "metadata": {
  "colab": {
   "authorship_tag": "ABX9TyO7kVzUPkYYe+SWZrEiVJK0",
   "provenance": []
  },
  "kernelspec": {
   "display_name": "Python 3 (ipykernel)",
   "language": "python",
   "name": "python3"
  },
  "language_info": {
   "codemirror_mode": {
    "name": "ipython",
    "version": 3
   },
   "file_extension": ".py",
   "mimetype": "text/x-python",
   "name": "python",
   "nbconvert_exporter": "python",
   "pygments_lexer": "ipython3",
   "version": "3.11.6"
  }
 },
 "nbformat": 4,
 "nbformat_minor": 4
}
